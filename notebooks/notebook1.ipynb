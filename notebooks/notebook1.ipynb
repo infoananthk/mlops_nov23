import os
import pandas as pd

df = pd.read_csv("../data_given/winequality.csv")
df.columns

df.describe().T

df.columns = ["_".join(col.split()) for col in df.columns]
df.describe().T

overview = df.describe()
overview.loc[["min", "max" ]]

class NotInRange(Exception) :
    def __init__(self, message="value not in given range - by Oracle India") :
        self.message = message
        supe().__init__(self.message)

raise NotInRange

overview.loc[["min", "max" ]]

overview.loc[["min", "max" ]].to_dict()

overview.loc[["min", "max" ]].to_json()

overview.loc[["min", "max" ]].to_json("schema_in.json")
